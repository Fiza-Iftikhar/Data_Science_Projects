{
 "cells": [
  {
   "cell_type": "markdown",
   "metadata": {},
   "source": [
    "# Exploring Hacker News Posts\n",
    "   - In this project, we'll work with a data set of submissions to popular technology site [Hacker News](https://news.ycombinator.com/). Hacker News is a site where user-submitted stories (known as `\"posts\"`) are voted and commented upon.\n",
    "   - We're specifically interested in posts whose titles begin with either **Ask HN** or **Show HN**. Users submit `Ask HN` posts to ask the Hacker News community a specific question\n",
    "   - Likewise, users submit `Show HN` posts to show the Hacker News community a project, product, or just generally something interesting.\n",
    "   - We'll compare these two types of posts (i.e Ask HN posts and Show HN Posts) to determine the following:\n",
    "\n",
    "        1. Do `Ask HN` or `Show HN` receive more comments on average?\n",
    "\n",
    "        2. Do posts created at a certain time receive more comments on average?"
   ]
  },
  {
   "cell_type": "code",
   "execution_count": 1,
   "metadata": {},
   "outputs": [],
   "source": [
    "import numpy as np\n",
    "import pandas as pd\n",
    "import matplotlib.pyplot as plt\n",
    "import seaborn as sns"
   ]
  },
  {
   "cell_type": "code",
   "execution_count": 2,
   "metadata": {},
   "outputs": [],
   "source": [
    "news_post = pd.read_csv(\"news_posts.csv\")"
   ]
  },
  {
   "cell_type": "code",
   "execution_count": 3,
   "metadata": {},
   "outputs": [
    {
     "name": "stdout",
     "output_type": "stream",
     "text": [
      "<class 'pandas.core.frame.DataFrame'>\n",
      "RangeIndex: 20100 entries, 0 to 20099\n",
      "Data columns (total 7 columns):\n",
      "id              20100 non-null int64\n",
      "title           20100 non-null object\n",
      "url             17660 non-null object\n",
      "num_points      20100 non-null int64\n",
      "num_comments    20100 non-null int64\n",
      "author          20100 non-null object\n",
      "created_at      20100 non-null object\n",
      "dtypes: int64(3), object(4)\n",
      "memory usage: 1.1+ MB\n"
     ]
    }
   ],
   "source": [
    "news_post.info()"
   ]
  },
  {
   "cell_type": "markdown",
   "metadata": {},
   "source": [
    "### Convert into datetime datatype"
   ]
  },
  {
   "cell_type": "code",
   "execution_count": 4,
   "metadata": {},
   "outputs": [],
   "source": [
    "news_post[\"created_at\"] = pd.to_datetime(news_post[\"created_at\"])"
   ]
  },
  {
   "cell_type": "code",
   "execution_count": 5,
   "metadata": {},
   "outputs": [
    {
     "name": "stdout",
     "output_type": "stream",
     "text": [
      "<class 'pandas.core.frame.DataFrame'>\n",
      "RangeIndex: 20100 entries, 0 to 20099\n",
      "Data columns (total 7 columns):\n",
      "id              20100 non-null int64\n",
      "title           20100 non-null object\n",
      "url             17660 non-null object\n",
      "num_points      20100 non-null int64\n",
      "num_comments    20100 non-null int64\n",
      "author          20100 non-null object\n",
      "created_at      20100 non-null datetime64[ns]\n",
      "dtypes: datetime64[ns](1), int64(3), object(3)\n",
      "memory usage: 1.1+ MB\n"
     ]
    }
   ],
   "source": [
    "news_post.info()"
   ]
  },
  {
   "cell_type": "markdown",
   "metadata": {},
   "source": [
    "## Separate ask_hn and show_hn data"
   ]
  },
  {
   "cell_type": "code",
   "execution_count": 6,
   "metadata": {},
   "outputs": [],
   "source": [
    "ask_posts = news_post[news_post[\"title\"].str.lower().str.startswith(\"ask hn\")].copy()\n",
    "show_posts = news_post[news_post[\"title\"].str.lower().str.startswith(\"show hn\")].copy()"
   ]
  },
  {
   "cell_type": "code",
   "execution_count": 7,
   "metadata": {},
   "outputs": [
    {
     "data": {
      "text/html": [
       "<div>\n",
       "<style scoped>\n",
       "    .dataframe tbody tr th:only-of-type {\n",
       "        vertical-align: middle;\n",
       "    }\n",
       "\n",
       "    .dataframe tbody tr th {\n",
       "        vertical-align: top;\n",
       "    }\n",
       "\n",
       "    .dataframe thead th {\n",
       "        text-align: right;\n",
       "    }\n",
       "</style>\n",
       "<table border=\"1\" class=\"dataframe\">\n",
       "  <thead>\n",
       "    <tr style=\"text-align: right;\">\n",
       "      <th></th>\n",
       "      <th>id</th>\n",
       "      <th>title</th>\n",
       "      <th>url</th>\n",
       "      <th>num_points</th>\n",
       "      <th>num_comments</th>\n",
       "      <th>author</th>\n",
       "      <th>created_at</th>\n",
       "    </tr>\n",
       "  </thead>\n",
       "  <tbody>\n",
       "    <tr>\n",
       "      <td>7</td>\n",
       "      <td>12296411</td>\n",
       "      <td>Ask HN: How to improve my personal website?</td>\n",
       "      <td>NaN</td>\n",
       "      <td>2</td>\n",
       "      <td>6</td>\n",
       "      <td>ahmedbaracat</td>\n",
       "      <td>2016-08-16 09:55:00</td>\n",
       "    </tr>\n",
       "    <tr>\n",
       "      <td>17</td>\n",
       "      <td>10610020</td>\n",
       "      <td>Ask HN: Am I the only one outraged by Twitter ...</td>\n",
       "      <td>NaN</td>\n",
       "      <td>28</td>\n",
       "      <td>29</td>\n",
       "      <td>tkfx</td>\n",
       "      <td>2015-11-22 13:43:00</td>\n",
       "    </tr>\n",
       "    <tr>\n",
       "      <td>22</td>\n",
       "      <td>11610310</td>\n",
       "      <td>Ask HN: Aby recent changes to CSS that broke m...</td>\n",
       "      <td>NaN</td>\n",
       "      <td>1</td>\n",
       "      <td>1</td>\n",
       "      <td>polskibus</td>\n",
       "      <td>2016-05-02 10:14:00</td>\n",
       "    </tr>\n",
       "    <tr>\n",
       "      <td>30</td>\n",
       "      <td>12210105</td>\n",
       "      <td>Ask HN: Looking for Employee #3 How do I do it?</td>\n",
       "      <td>NaN</td>\n",
       "      <td>1</td>\n",
       "      <td>3</td>\n",
       "      <td>sph130</td>\n",
       "      <td>2016-08-02 14:20:00</td>\n",
       "    </tr>\n",
       "    <tr>\n",
       "      <td>31</td>\n",
       "      <td>10394168</td>\n",
       "      <td>Ask HN: Someone offered to buy my browser exte...</td>\n",
       "      <td>NaN</td>\n",
       "      <td>28</td>\n",
       "      <td>17</td>\n",
       "      <td>roykolak</td>\n",
       "      <td>2015-10-15 16:38:00</td>\n",
       "    </tr>\n",
       "    <tr>\n",
       "      <td>...</td>\n",
       "      <td>...</td>\n",
       "      <td>...</td>\n",
       "      <td>...</td>\n",
       "      <td>...</td>\n",
       "      <td>...</td>\n",
       "      <td>...</td>\n",
       "      <td>...</td>\n",
       "    </tr>\n",
       "    <tr>\n",
       "      <td>20039</td>\n",
       "      <td>10994357</td>\n",
       "      <td>Ask HN: Is it feasible to port Apple's Swift t...</td>\n",
       "      <td>NaN</td>\n",
       "      <td>3</td>\n",
       "      <td>17</td>\n",
       "      <td>schappim</td>\n",
       "      <td>2016-01-29 09:42:00</td>\n",
       "    </tr>\n",
       "    <tr>\n",
       "      <td>20042</td>\n",
       "      <td>12241954</td>\n",
       "      <td>Ask HN: What to do when a developer goes dark?</td>\n",
       "      <td>NaN</td>\n",
       "      <td>3</td>\n",
       "      <td>3</td>\n",
       "      <td>bittysdad</td>\n",
       "      <td>2016-08-07 12:58:00</td>\n",
       "    </tr>\n",
       "    <tr>\n",
       "      <td>20045</td>\n",
       "      <td>12029526</td>\n",
       "      <td>Ask HN: Killer app for AR?</td>\n",
       "      <td>NaN</td>\n",
       "      <td>2</td>\n",
       "      <td>2</td>\n",
       "      <td>davidiach</td>\n",
       "      <td>2016-07-04 08:50:00</td>\n",
       "    </tr>\n",
       "    <tr>\n",
       "      <td>20048</td>\n",
       "      <td>11227969</td>\n",
       "      <td>Ask HN: How do you balance a serious relations...</td>\n",
       "      <td>NaN</td>\n",
       "      <td>10</td>\n",
       "      <td>4</td>\n",
       "      <td>audace</td>\n",
       "      <td>2016-03-05 01:25:00</td>\n",
       "    </tr>\n",
       "    <tr>\n",
       "      <td>20061</td>\n",
       "      <td>11743946</td>\n",
       "      <td>Ask HN: Why are papers still published as PDFs?</td>\n",
       "      <td>NaN</td>\n",
       "      <td>4</td>\n",
       "      <td>2</td>\n",
       "      <td>adius</td>\n",
       "      <td>2016-05-21 09:22:00</td>\n",
       "    </tr>\n",
       "  </tbody>\n",
       "</table>\n",
       "<p>1744 rows × 7 columns</p>\n",
       "</div>"
      ],
      "text/plain": [
       "             id                                              title  url  \\\n",
       "7      12296411        Ask HN: How to improve my personal website?  NaN   \n",
       "17     10610020  Ask HN: Am I the only one outraged by Twitter ...  NaN   \n",
       "22     11610310  Ask HN: Aby recent changes to CSS that broke m...  NaN   \n",
       "30     12210105    Ask HN: Looking for Employee #3 How do I do it?  NaN   \n",
       "31     10394168  Ask HN: Someone offered to buy my browser exte...  NaN   \n",
       "...         ...                                                ...  ...   \n",
       "20039  10994357  Ask HN: Is it feasible to port Apple's Swift t...  NaN   \n",
       "20042  12241954     Ask HN: What to do when a developer goes dark?  NaN   \n",
       "20045  12029526                         Ask HN: Killer app for AR?  NaN   \n",
       "20048  11227969  Ask HN: How do you balance a serious relations...  NaN   \n",
       "20061  11743946    Ask HN: Why are papers still published as PDFs?  NaN   \n",
       "\n",
       "       num_points  num_comments        author          created_at  \n",
       "7               2             6  ahmedbaracat 2016-08-16 09:55:00  \n",
       "17             28            29          tkfx 2015-11-22 13:43:00  \n",
       "22              1             1     polskibus 2016-05-02 10:14:00  \n",
       "30              1             3        sph130 2016-08-02 14:20:00  \n",
       "31             28            17      roykolak 2015-10-15 16:38:00  \n",
       "...           ...           ...           ...                 ...  \n",
       "20039           3            17      schappim 2016-01-29 09:42:00  \n",
       "20042           3             3     bittysdad 2016-08-07 12:58:00  \n",
       "20045           2             2     davidiach 2016-07-04 08:50:00  \n",
       "20048          10             4        audace 2016-03-05 01:25:00  \n",
       "20061           4             2         adius 2016-05-21 09:22:00  \n",
       "\n",
       "[1744 rows x 7 columns]"
      ]
     },
     "execution_count": 7,
     "metadata": {},
     "output_type": "execute_result"
    }
   ],
   "source": [
    "ask_posts"
   ]
  },
  {
   "cell_type": "code",
   "execution_count": 8,
   "metadata": {},
   "outputs": [
    {
     "data": {
      "text/html": [
       "<div>\n",
       "<style scoped>\n",
       "    .dataframe tbody tr th:only-of-type {\n",
       "        vertical-align: middle;\n",
       "    }\n",
       "\n",
       "    .dataframe tbody tr th {\n",
       "        vertical-align: top;\n",
       "    }\n",
       "\n",
       "    .dataframe thead th {\n",
       "        text-align: right;\n",
       "    }\n",
       "</style>\n",
       "<table border=\"1\" class=\"dataframe\">\n",
       "  <thead>\n",
       "    <tr style=\"text-align: right;\">\n",
       "      <th></th>\n",
       "      <th>id</th>\n",
       "      <th>title</th>\n",
       "      <th>url</th>\n",
       "      <th>num_points</th>\n",
       "      <th>num_comments</th>\n",
       "      <th>author</th>\n",
       "      <th>created_at</th>\n",
       "    </tr>\n",
       "  </thead>\n",
       "  <tbody>\n",
       "    <tr>\n",
       "      <td>13</td>\n",
       "      <td>10627194</td>\n",
       "      <td>Show HN: Wio Link  ESP8266 Based Web of Things...</td>\n",
       "      <td>https://iot.seeed.cc</td>\n",
       "      <td>26</td>\n",
       "      <td>22</td>\n",
       "      <td>kfihihc</td>\n",
       "      <td>2015-11-25 14:03:00</td>\n",
       "    </tr>\n",
       "    <tr>\n",
       "      <td>39</td>\n",
       "      <td>10646440</td>\n",
       "      <td>Show HN: Something pointless I made</td>\n",
       "      <td>http://dn.ht/picklecat/</td>\n",
       "      <td>747</td>\n",
       "      <td>102</td>\n",
       "      <td>dhotson</td>\n",
       "      <td>2015-11-29 22:46:00</td>\n",
       "    </tr>\n",
       "    <tr>\n",
       "      <td>46</td>\n",
       "      <td>11590768</td>\n",
       "      <td>Show HN: Shanhu.io, a programming playground p...</td>\n",
       "      <td>https://shanhu.io</td>\n",
       "      <td>1</td>\n",
       "      <td>1</td>\n",
       "      <td>h8liu</td>\n",
       "      <td>2016-04-28 18:05:00</td>\n",
       "    </tr>\n",
       "    <tr>\n",
       "      <td>84</td>\n",
       "      <td>12178806</td>\n",
       "      <td>Show HN: Webscope  Easy way for web developers...</td>\n",
       "      <td>http://webscopeapp.com</td>\n",
       "      <td>3</td>\n",
       "      <td>3</td>\n",
       "      <td>fastbrick</td>\n",
       "      <td>2016-07-28 07:11:00</td>\n",
       "    </tr>\n",
       "    <tr>\n",
       "      <td>97</td>\n",
       "      <td>10872799</td>\n",
       "      <td>Show HN: GeoScreenshot  Easily test Geo-IP bas...</td>\n",
       "      <td>https://www.geoscreenshot.com/</td>\n",
       "      <td>1</td>\n",
       "      <td>9</td>\n",
       "      <td>kpsychwave</td>\n",
       "      <td>2016-01-09 20:45:00</td>\n",
       "    </tr>\n",
       "    <tr>\n",
       "      <td>...</td>\n",
       "      <td>...</td>\n",
       "      <td>...</td>\n",
       "      <td>...</td>\n",
       "      <td>...</td>\n",
       "      <td>...</td>\n",
       "      <td>...</td>\n",
       "      <td>...</td>\n",
       "    </tr>\n",
       "    <tr>\n",
       "      <td>19993</td>\n",
       "      <td>11222099</td>\n",
       "      <td>Show HN: Geocoding API built with government o...</td>\n",
       "      <td>https://latlon.io</td>\n",
       "      <td>6</td>\n",
       "      <td>6</td>\n",
       "      <td>evanmarks</td>\n",
       "      <td>2016-03-04 04:50:00</td>\n",
       "    </tr>\n",
       "    <tr>\n",
       "      <td>19999</td>\n",
       "      <td>11735438</td>\n",
       "      <td>Show HN: Decorating: Animated pulsed for your ...</td>\n",
       "      <td>https://github.com/ryukinix/decorating</td>\n",
       "      <td>3</td>\n",
       "      <td>1</td>\n",
       "      <td>lerax</td>\n",
       "      <td>2016-05-20 03:48:00</td>\n",
       "    </tr>\n",
       "    <tr>\n",
       "      <td>20014</td>\n",
       "      <td>10200913</td>\n",
       "      <td>Show HN: Idea to startup</td>\n",
       "      <td>https://ideatostartup.org</td>\n",
       "      <td>14</td>\n",
       "      <td>17</td>\n",
       "      <td>nikhildaga</td>\n",
       "      <td>2015-09-10 22:17:00</td>\n",
       "    </tr>\n",
       "    <tr>\n",
       "      <td>20065</td>\n",
       "      <td>11444393</td>\n",
       "      <td>Show HN: PhantomJsCloud, Headless Browser SaaS</td>\n",
       "      <td>https://PhantomJsCloud.com</td>\n",
       "      <td>2</td>\n",
       "      <td>1</td>\n",
       "      <td>novaleaf</td>\n",
       "      <td>2016-04-07 03:04:00</td>\n",
       "    </tr>\n",
       "    <tr>\n",
       "      <td>20070</td>\n",
       "      <td>12149183</td>\n",
       "      <td>Show HN: Parse recipe ingredients using JavaSc...</td>\n",
       "      <td>https://github.com/herkyl/ingredients-parser</td>\n",
       "      <td>6</td>\n",
       "      <td>2</td>\n",
       "      <td>zongitsrinzler</td>\n",
       "      <td>2016-07-23 11:35:00</td>\n",
       "    </tr>\n",
       "  </tbody>\n",
       "</table>\n",
       "<p>1162 rows × 7 columns</p>\n",
       "</div>"
      ],
      "text/plain": [
       "             id                                              title  \\\n",
       "13     10627194  Show HN: Wio Link  ESP8266 Based Web of Things...   \n",
       "39     10646440                Show HN: Something pointless I made   \n",
       "46     11590768  Show HN: Shanhu.io, a programming playground p...   \n",
       "84     12178806  Show HN: Webscope  Easy way for web developers...   \n",
       "97     10872799  Show HN: GeoScreenshot  Easily test Geo-IP bas...   \n",
       "...         ...                                                ...   \n",
       "19993  11222099  Show HN: Geocoding API built with government o...   \n",
       "19999  11735438  Show HN: Decorating: Animated pulsed for your ...   \n",
       "20014  10200913                           Show HN: Idea to startup   \n",
       "20065  11444393     Show HN: PhantomJsCloud, Headless Browser SaaS   \n",
       "20070  12149183  Show HN: Parse recipe ingredients using JavaSc...   \n",
       "\n",
       "                                                url  num_points  num_comments  \\\n",
       "13                             https://iot.seeed.cc          26            22   \n",
       "39                          http://dn.ht/picklecat/         747           102   \n",
       "46                                https://shanhu.io           1             1   \n",
       "84                           http://webscopeapp.com           3             3   \n",
       "97                   https://www.geoscreenshot.com/           1             9   \n",
       "...                                             ...         ...           ...   \n",
       "19993                             https://latlon.io           6             6   \n",
       "19999        https://github.com/ryukinix/decorating           3             1   \n",
       "20014                     https://ideatostartup.org          14            17   \n",
       "20065                    https://PhantomJsCloud.com           2             1   \n",
       "20070  https://github.com/herkyl/ingredients-parser           6             2   \n",
       "\n",
       "               author          created_at  \n",
       "13            kfihihc 2015-11-25 14:03:00  \n",
       "39            dhotson 2015-11-29 22:46:00  \n",
       "46              h8liu 2016-04-28 18:05:00  \n",
       "84          fastbrick 2016-07-28 07:11:00  \n",
       "97         kpsychwave 2016-01-09 20:45:00  \n",
       "...               ...                 ...  \n",
       "19993       evanmarks 2016-03-04 04:50:00  \n",
       "19999           lerax 2016-05-20 03:48:00  \n",
       "20014      nikhildaga 2015-09-10 22:17:00  \n",
       "20065        novaleaf 2016-04-07 03:04:00  \n",
       "20070  zongitsrinzler 2016-07-23 11:35:00  \n",
       "\n",
       "[1162 rows x 7 columns]"
      ]
     },
     "execution_count": 8,
     "metadata": {},
     "output_type": "execute_result"
    }
   ],
   "source": [
    "show_posts"
   ]
  },
  {
   "cell_type": "code",
   "execution_count": 9,
   "metadata": {},
   "outputs": [
    {
     "name": "stdout",
     "output_type": "stream",
     "text": [
      "14.038417431192661 10.31669535283993\n"
     ]
    }
   ],
   "source": [
    "ask_avg_com = ask_posts[\"num_comments\"].mean()\n",
    "show_avg_com = show_posts[\"num_comments\"].mean()\n",
    "\n",
    "print(ask_avg_com, show_avg_com)"
   ]
  },
  {
   "cell_type": "markdown",
   "metadata": {},
   "source": [
    "### Graphical Representation"
   ]
  },
  {
   "cell_type": "code",
   "execution_count": 10,
   "metadata": {},
   "outputs": [],
   "source": [
    "avg_comm = pd.Series({\"ask_com\":ask_avg_com, \"show_com\":show_avg_com})"
   ]
  },
  {
   "cell_type": "code",
   "execution_count": 11,
   "metadata": {},
   "outputs": [
    {
     "data": {
      "text/plain": [
       "ask_com     14.038417\n",
       "show_com    10.316695\n",
       "dtype: float64"
      ]
     },
     "execution_count": 11,
     "metadata": {},
     "output_type": "execute_result"
    }
   ],
   "source": [
    "avg_comm"
   ]
  },
  {
   "cell_type": "code",
   "execution_count": 12,
   "metadata": {},
   "outputs": [
    {
     "data": {
      "image/png": "[encoded data removed]",
      "text/plain": [
       "<Figure size 576x360 with 1 Axes>"
      ]
     },
     "metadata": {
      "needs_background": "light"
     },
     "output_type": "display_data"
    }
   ],
   "source": [
    "fig, ax = plt.subplots(figsize = (8, 5))\n",
    "avg_comm.plot.bar( rot = 0, color = [\"#957DAD\", \"#D291BC\"] )\n",
    "font = {'family': 'Times New Roman', 'color':  'black', 'weight': 'normal', 'size': 15}\n",
    "plt.title(\"Comparision of posts comments\", fontdict = font, fontsize = 20)\n",
    "ax.set_facecolor(color = \"#F2F1F0\")\n",
    "ax.set_xticklabels([\"Ask_com\", \"Show_com\"],fontdict = font)\n",
    "ax.tick_params(left = False, bottom = False)\n",
    "for value in ax.spines.values():\n",
    "    value.set_visible(False)\n",
    "plt.show()"
   ]
  },
  {
   "cell_type": "markdown",
   "metadata": {},
   "source": [
    "From the above graph, we clearly see that **Ask_HN** recevie more comments than **Show_HN**."
   ]
  },
  {
   "cell_type": "markdown",
   "metadata": {},
   "source": [
    "### At which time receive more comments on average?"
   ]
  },
  {
   "cell_type": "code",
   "execution_count": 13,
   "metadata": {},
   "outputs": [
    {
     "data": {
      "text/html": [
       "<div>\n",
       "<style scoped>\n",
       "    .dataframe tbody tr th:only-of-type {\n",
       "        vertical-align: middle;\n",
       "    }\n",
       "\n",
       "    .dataframe tbody tr th {\n",
       "        vertical-align: top;\n",
       "    }\n",
       "\n",
       "    .dataframe thead th {\n",
       "        text-align: right;\n",
       "    }\n",
       "</style>\n",
       "<table border=\"1\" class=\"dataframe\">\n",
       "  <thead>\n",
       "    <tr style=\"text-align: right;\">\n",
       "      <th></th>\n",
       "      <th>id</th>\n",
       "      <th>title</th>\n",
       "      <th>url</th>\n",
       "      <th>num_points</th>\n",
       "      <th>num_comments</th>\n",
       "      <th>author</th>\n",
       "      <th>created_at</th>\n",
       "    </tr>\n",
       "  </thead>\n",
       "  <tbody>\n",
       "    <tr>\n",
       "      <td>7</td>\n",
       "      <td>12296411</td>\n",
       "      <td>Ask HN: How to improve my personal website?</td>\n",
       "      <td>NaN</td>\n",
       "      <td>2</td>\n",
       "      <td>6</td>\n",
       "      <td>ahmedbaracat</td>\n",
       "      <td>2016-08-16 09:55:00</td>\n",
       "    </tr>\n",
       "    <tr>\n",
       "      <td>17</td>\n",
       "      <td>10610020</td>\n",
       "      <td>Ask HN: Am I the only one outraged by Twitter ...</td>\n",
       "      <td>NaN</td>\n",
       "      <td>28</td>\n",
       "      <td>29</td>\n",
       "      <td>tkfx</td>\n",
       "      <td>2015-11-22 13:43:00</td>\n",
       "    </tr>\n",
       "    <tr>\n",
       "      <td>22</td>\n",
       "      <td>11610310</td>\n",
       "      <td>Ask HN: Aby recent changes to CSS that broke m...</td>\n",
       "      <td>NaN</td>\n",
       "      <td>1</td>\n",
       "      <td>1</td>\n",
       "      <td>polskibus</td>\n",
       "      <td>2016-05-02 10:14:00</td>\n",
       "    </tr>\n",
       "    <tr>\n",
       "      <td>30</td>\n",
       "      <td>12210105</td>\n",
       "      <td>Ask HN: Looking for Employee #3 How do I do it?</td>\n",
       "      <td>NaN</td>\n",
       "      <td>1</td>\n",
       "      <td>3</td>\n",
       "      <td>sph130</td>\n",
       "      <td>2016-08-02 14:20:00</td>\n",
       "    </tr>\n",
       "    <tr>\n",
       "      <td>31</td>\n",
       "      <td>10394168</td>\n",
       "      <td>Ask HN: Someone offered to buy my browser exte...</td>\n",
       "      <td>NaN</td>\n",
       "      <td>28</td>\n",
       "      <td>17</td>\n",
       "      <td>roykolak</td>\n",
       "      <td>2015-10-15 16:38:00</td>\n",
       "    </tr>\n",
       "  </tbody>\n",
       "</table>\n",
       "</div>"
      ],
      "text/plain": [
       "          id                                              title  url  \\\n",
       "7   12296411        Ask HN: How to improve my personal website?  NaN   \n",
       "17  10610020  Ask HN: Am I the only one outraged by Twitter ...  NaN   \n",
       "22  11610310  Ask HN: Aby recent changes to CSS that broke m...  NaN   \n",
       "30  12210105    Ask HN: Looking for Employee #3 How do I do it?  NaN   \n",
       "31  10394168  Ask HN: Someone offered to buy my browser exte...  NaN   \n",
       "\n",
       "    num_points  num_comments        author          created_at  \n",
       "7            2             6  ahmedbaracat 2016-08-16 09:55:00  \n",
       "17          28            29          tkfx 2015-11-22 13:43:00  \n",
       "22           1             1     polskibus 2016-05-02 10:14:00  \n",
       "30           1             3        sph130 2016-08-02 14:20:00  \n",
       "31          28            17      roykolak 2015-10-15 16:38:00  "
      ]
     },
     "execution_count": 13,
     "metadata": {},
     "output_type": "execute_result"
    }
   ],
   "source": [
    "ask_posts.head()"
   ]
  },
  {
   "cell_type": "code",
   "execution_count": 14,
   "metadata": {},
   "outputs": [],
   "source": [
    "ask_posts[\"hours\"] = ask_posts[\"created_at\"].dt.hour"
   ]
  },
  {
   "cell_type": "code",
   "execution_count": 15,
   "metadata": {},
   "outputs": [
    {
     "data": {
      "text/html": [
       "<div>\n",
       "<style scoped>\n",
       "    .dataframe tbody tr th:only-of-type {\n",
       "        vertical-align: middle;\n",
       "    }\n",
       "\n",
       "    .dataframe tbody tr th {\n",
       "        vertical-align: top;\n",
       "    }\n",
       "\n",
       "    .dataframe thead th {\n",
       "        text-align: right;\n",
       "    }\n",
       "</style>\n",
       "<table border=\"1\" class=\"dataframe\">\n",
       "  <thead>\n",
       "    <tr style=\"text-align: right;\">\n",
       "      <th></th>\n",
       "      <th>id</th>\n",
       "      <th>title</th>\n",
       "      <th>url</th>\n",
       "      <th>num_points</th>\n",
       "      <th>num_comments</th>\n",
       "      <th>author</th>\n",
       "      <th>created_at</th>\n",
       "      <th>hours</th>\n",
       "    </tr>\n",
       "  </thead>\n",
       "  <tbody>\n",
       "    <tr>\n",
       "      <td>7</td>\n",
       "      <td>12296411</td>\n",
       "      <td>Ask HN: How to improve my personal website?</td>\n",
       "      <td>NaN</td>\n",
       "      <td>2</td>\n",
       "      <td>6</td>\n",
       "      <td>ahmedbaracat</td>\n",
       "      <td>2016-08-16 09:55:00</td>\n",
       "      <td>9</td>\n",
       "    </tr>\n",
       "    <tr>\n",
       "      <td>17</td>\n",
       "      <td>10610020</td>\n",
       "      <td>Ask HN: Am I the only one outraged by Twitter ...</td>\n",
       "      <td>NaN</td>\n",
       "      <td>28</td>\n",
       "      <td>29</td>\n",
       "      <td>tkfx</td>\n",
       "      <td>2015-11-22 13:43:00</td>\n",
       "      <td>13</td>\n",
       "    </tr>\n",
       "    <tr>\n",
       "      <td>22</td>\n",
       "      <td>11610310</td>\n",
       "      <td>Ask HN: Aby recent changes to CSS that broke m...</td>\n",
       "      <td>NaN</td>\n",
       "      <td>1</td>\n",
       "      <td>1</td>\n",
       "      <td>polskibus</td>\n",
       "      <td>2016-05-02 10:14:00</td>\n",
       "      <td>10</td>\n",
       "    </tr>\n",
       "    <tr>\n",
       "      <td>30</td>\n",
       "      <td>12210105</td>\n",
       "      <td>Ask HN: Looking for Employee #3 How do I do it?</td>\n",
       "      <td>NaN</td>\n",
       "      <td>1</td>\n",
       "      <td>3</td>\n",
       "      <td>sph130</td>\n",
       "      <td>2016-08-02 14:20:00</td>\n",
       "      <td>14</td>\n",
       "    </tr>\n",
       "    <tr>\n",
       "      <td>31</td>\n",
       "      <td>10394168</td>\n",
       "      <td>Ask HN: Someone offered to buy my browser exte...</td>\n",
       "      <td>NaN</td>\n",
       "      <td>28</td>\n",
       "      <td>17</td>\n",
       "      <td>roykolak</td>\n",
       "      <td>2015-10-15 16:38:00</td>\n",
       "      <td>16</td>\n",
       "    </tr>\n",
       "  </tbody>\n",
       "</table>\n",
       "</div>"
      ],
      "text/plain": [
       "          id                                              title  url  \\\n",
       "7   12296411        Ask HN: How to improve my personal website?  NaN   \n",
       "17  10610020  Ask HN: Am I the only one outraged by Twitter ...  NaN   \n",
       "22  11610310  Ask HN: Aby recent changes to CSS that broke m...  NaN   \n",
       "30  12210105    Ask HN: Looking for Employee #3 How do I do it?  NaN   \n",
       "31  10394168  Ask HN: Someone offered to buy my browser exte...  NaN   \n",
       "\n",
       "    num_points  num_comments        author          created_at  hours  \n",
       "7            2             6  ahmedbaracat 2016-08-16 09:55:00      9  \n",
       "17          28            29          tkfx 2015-11-22 13:43:00     13  \n",
       "22           1             1     polskibus 2016-05-02 10:14:00     10  \n",
       "30           1             3        sph130 2016-08-02 14:20:00     14  \n",
       "31          28            17      roykolak 2015-10-15 16:38:00     16  "
      ]
     },
     "execution_count": 15,
     "metadata": {},
     "output_type": "execute_result"
    }
   ],
   "source": [
    "ask_posts.head()"
   ]
  },
  {
   "cell_type": "code",
   "execution_count": 16,
   "metadata": {},
   "outputs": [],
   "source": [
    "ask_hourly_avg = ask_posts.groupby(\"hours\")[\"num_comments\"].mean().sort_values(ascending = False)"
   ]
  },
  {
   "cell_type": "code",
   "execution_count": 17,
   "metadata": {},
   "outputs": [
    {
     "data": {
      "text/plain": [
       "hours\n",
       "15    38.594828\n",
       "2     23.810345\n",
       "20    21.525000\n",
       "16    16.796296\n",
       "21    16.009174\n",
       "13    14.741176\n",
       "10    13.440678\n",
       "14    13.233645\n",
       "18    13.201835\n",
       "17    11.460000\n",
       "1     11.383333\n",
       "11    11.051724\n",
       "19    10.800000\n",
       "8     10.250000\n",
       "5     10.086957\n",
       "12     9.410959\n",
       "6      9.022727\n",
       "0      8.127273\n",
       "23     7.985294\n",
       "7      7.852941\n",
       "3      7.796296\n",
       "4      7.170213\n",
       "22     6.746479\n",
       "9      5.577778\n",
       "Name: num_comments, dtype: float64"
      ]
     },
     "execution_count": 17,
     "metadata": {},
     "output_type": "execute_result"
    }
   ],
   "source": [
    "ask_hourly_avg"
   ]
  },
  {
   "cell_type": "code",
   "execution_count": 18,
   "metadata": {},
   "outputs": [],
   "source": [
    "show_posts[\"hours\"] = show_posts[\"created_at\"].dt.hour"
   ]
  },
  {
   "cell_type": "code",
   "execution_count": 19,
   "metadata": {},
   "outputs": [],
   "source": [
    "show_hourly_avg = show_posts.groupby(\"hours\")[\"num_comments\"].mean().sort_values(ascending = False)"
   ]
  },
  {
   "cell_type": "code",
   "execution_count": 20,
   "metadata": {},
   "outputs": [
    {
     "data": {
      "text/plain": [
       "hours\n",
       "18    15.770492\n",
       "0     15.709677\n",
       "14    13.441860\n",
       "23    12.416667\n",
       "22    12.391304\n",
       "12    11.803279\n",
       "16    11.655914\n",
       "7     11.500000\n",
       "11    11.159091\n",
       "3     10.629630\n",
       "20    10.200000\n",
       "19     9.800000\n",
       "17     9.795699\n",
       "9      9.700000\n",
       "13     9.555556\n",
       "4      9.500000\n",
       "6      8.875000\n",
       "1      8.785714\n",
       "10     8.250000\n",
       "15     8.102564\n",
       "21     5.787234\n",
       "8      4.852941\n",
       "2      4.233333\n",
       "5      3.052632\n",
       "Name: num_comments, dtype: float64"
      ]
     },
     "execution_count": 20,
     "metadata": {},
     "output_type": "execute_result"
    }
   ],
   "source": [
    "show_hourly_avg"
   ]
  },
  {
   "cell_type": "code",
   "execution_count": 21,
   "metadata": {},
   "outputs": [],
   "source": [
    "ask_hourly_com = pd.DataFrame(ask_hourly_avg)\n",
    "ask_hourly_com.reset_index(inplace = True)"
   ]
  },
  {
   "cell_type": "code",
   "execution_count": 22,
   "metadata": {},
   "outputs": [],
   "source": [
    "show_hourly_com = pd.DataFrame(show_hourly_avg)\n",
    "show_hourly_com.reset_index(inplace = True)"
   ]
  },
  {
   "cell_type": "code",
   "execution_count": 73,
   "metadata": {},
   "outputs": [
    {
     "data": {
      "text/html": [
       "<div>\n",
       "<style scoped>\n",
       "    .dataframe tbody tr th:only-of-type {\n",
       "        vertical-align: middle;\n",
       "    }\n",
       "\n",
       "    .dataframe tbody tr th {\n",
       "        vertical-align: top;\n",
       "    }\n",
       "\n",
       "    .dataframe thead th {\n",
       "        text-align: right;\n",
       "    }\n",
       "</style>\n",
       "<table border=\"1\" class=\"dataframe\">\n",
       "  <thead>\n",
       "    <tr style=\"text-align: right;\">\n",
       "      <th></th>\n",
       "      <th>hours</th>\n",
       "      <th>num_comments</th>\n",
       "    </tr>\n",
       "  </thead>\n",
       "  <tbody>\n",
       "    <tr>\n",
       "      <td>0</td>\n",
       "      <td>15</td>\n",
       "      <td>38.594828</td>\n",
       "    </tr>\n",
       "    <tr>\n",
       "      <td>1</td>\n",
       "      <td>2</td>\n",
       "      <td>23.810345</td>\n",
       "    </tr>\n",
       "    <tr>\n",
       "      <td>2</td>\n",
       "      <td>20</td>\n",
       "      <td>21.525000</td>\n",
       "    </tr>\n",
       "    <tr>\n",
       "      <td>3</td>\n",
       "      <td>16</td>\n",
       "      <td>16.796296</td>\n",
       "    </tr>\n",
       "    <tr>\n",
       "      <td>4</td>\n",
       "      <td>21</td>\n",
       "      <td>16.009174</td>\n",
       "    </tr>\n",
       "  </tbody>\n",
       "</table>\n",
       "</div>"
      ],
      "text/plain": [
       "   hours  num_comments\n",
       "0     15     38.594828\n",
       "1      2     23.810345\n",
       "2     20     21.525000\n",
       "3     16     16.796296\n",
       "4     21     16.009174"
      ]
     },
     "execution_count": 73,
     "metadata": {},
     "output_type": "execute_result"
    }
   ],
   "source": [
    "ask_hourly_com.head()"
   ]
  },
  {
   "cell_type": "code",
   "execution_count": 72,
   "metadata": {},
   "outputs": [
    {
     "data": {
      "text/html": [
       "<div>\n",
       "<style scoped>\n",
       "    .dataframe tbody tr th:only-of-type {\n",
       "        vertical-align: middle;\n",
       "    }\n",
       "\n",
       "    .dataframe tbody tr th {\n",
       "        vertical-align: top;\n",
       "    }\n",
       "\n",
       "    .dataframe thead th {\n",
       "        text-align: right;\n",
       "    }\n",
       "</style>\n",
       "<table border=\"1\" class=\"dataframe\">\n",
       "  <thead>\n",
       "    <tr style=\"text-align: right;\">\n",
       "      <th></th>\n",
       "      <th>hours</th>\n",
       "      <th>num_comments</th>\n",
       "    </tr>\n",
       "  </thead>\n",
       "  <tbody>\n",
       "    <tr>\n",
       "      <td>0</td>\n",
       "      <td>18</td>\n",
       "      <td>15.770492</td>\n",
       "    </tr>\n",
       "    <tr>\n",
       "      <td>1</td>\n",
       "      <td>0</td>\n",
       "      <td>15.709677</td>\n",
       "    </tr>\n",
       "    <tr>\n",
       "      <td>2</td>\n",
       "      <td>14</td>\n",
       "      <td>13.441860</td>\n",
       "    </tr>\n",
       "    <tr>\n",
       "      <td>3</td>\n",
       "      <td>23</td>\n",
       "      <td>12.416667</td>\n",
       "    </tr>\n",
       "    <tr>\n",
       "      <td>4</td>\n",
       "      <td>22</td>\n",
       "      <td>12.391304</td>\n",
       "    </tr>\n",
       "  </tbody>\n",
       "</table>\n",
       "</div>"
      ],
      "text/plain": [
       "   hours  num_comments\n",
       "0     18     15.770492\n",
       "1      0     15.709677\n",
       "2     14     13.441860\n",
       "3     23     12.416667\n",
       "4     22     12.391304"
      ]
     },
     "execution_count": 72,
     "metadata": {},
     "output_type": "execute_result"
    }
   ],
   "source": [
    "show_hourly_com.head()"
   ]
  },
  {
   "cell_type": "code",
   "execution_count": 25,
   "metadata": {},
   "outputs": [],
   "source": [
    "Hourly_avg_com = ask_hourly_com.merge(show_hourly_com, on = \"hours\", how = \"inner\", suffixes = (\"_post\", \"_show\"))"
   ]
  },
  {
   "cell_type": "code",
   "execution_count": 26,
   "metadata": {},
   "outputs": [],
   "source": [
    "Hourly_avg_com.sort_values(by = \"hours\", inplace = True )"
   ]
  },
  {
   "cell_type": "code",
   "execution_count": 27,
   "metadata": {},
   "outputs": [],
   "source": [
    "Hourly_avg_com.set_index(\"hours\", inplace = True, )"
   ]
  },
  {
   "cell_type": "code",
   "execution_count": 28,
   "metadata": {},
   "outputs": [],
   "source": [
    "Hourly_avg_com.index.name = None"
   ]
  },
  {
   "cell_type": "code",
   "execution_count": 85,
   "metadata": {},
   "outputs": [
    {
     "data": {
      "text/html": [
       "<div>\n",
       "<style scoped>\n",
       "    .dataframe tbody tr th:only-of-type {\n",
       "        vertical-align: middle;\n",
       "    }\n",
       "\n",
       "    .dataframe tbody tr th {\n",
       "        vertical-align: top;\n",
       "    }\n",
       "\n",
       "    .dataframe thead th {\n",
       "        text-align: right;\n",
       "    }\n",
       "</style>\n",
       "<table border=\"1\" class=\"dataframe\">\n",
       "  <thead>\n",
       "    <tr style=\"text-align: right;\">\n",
       "      <th></th>\n",
       "      <th>num_comments_post</th>\n",
       "      <th>num_comments_show</th>\n",
       "    </tr>\n",
       "  </thead>\n",
       "  <tbody>\n",
       "    <tr>\n",
       "      <td>0</td>\n",
       "      <td>8.127273</td>\n",
       "      <td>15.709677</td>\n",
       "    </tr>\n",
       "    <tr>\n",
       "      <td>1</td>\n",
       "      <td>11.383333</td>\n",
       "      <td>8.785714</td>\n",
       "    </tr>\n",
       "    <tr>\n",
       "      <td>2</td>\n",
       "      <td>23.810345</td>\n",
       "      <td>4.233333</td>\n",
       "    </tr>\n",
       "    <tr>\n",
       "      <td>3</td>\n",
       "      <td>7.796296</td>\n",
       "      <td>10.629630</td>\n",
       "    </tr>\n",
       "    <tr>\n",
       "      <td>4</td>\n",
       "      <td>7.170213</td>\n",
       "      <td>9.500000</td>\n",
       "    </tr>\n",
       "  </tbody>\n",
       "</table>\n",
       "</div>"
      ],
      "text/plain": [
       "   num_comments_post  num_comments_show\n",
       "0           8.127273          15.709677\n",
       "1          11.383333           8.785714\n",
       "2          23.810345           4.233333\n",
       "3           7.796296          10.629630\n",
       "4           7.170213           9.500000"
      ]
     },
     "execution_count": 85,
     "metadata": {},
     "output_type": "execute_result"
    }
   ],
   "source": [
    "Hourly_avg_com.head()"
   ]
  },
  {
   "cell_type": "code",
   "execution_count": 93,
   "metadata": {},
   "outputs": [],
   "source": [
    "Hourly_avg_com.rename(columns = {\"num_comments_post\": \"Avg_Post_Com\", \"num_comments_show\" : \"Avg_Show_Com\"}, inplace = True)"
   ]
  },
  {
   "cell_type": "code",
   "execution_count": 95,
   "metadata": {},
   "outputs": [
    {
     "data": {
      "text/html": [
       "<div>\n",
       "<style scoped>\n",
       "    .dataframe tbody tr th:only-of-type {\n",
       "        vertical-align: middle;\n",
       "    }\n",
       "\n",
       "    .dataframe tbody tr th {\n",
       "        vertical-align: top;\n",
       "    }\n",
       "\n",
       "    .dataframe thead th {\n",
       "        text-align: right;\n",
       "    }\n",
       "</style>\n",
       "<table border=\"1\" class=\"dataframe\">\n",
       "  <thead>\n",
       "    <tr style=\"text-align: right;\">\n",
       "      <th></th>\n",
       "      <th>Avg_Post_Com</th>\n",
       "      <th>Avg_Show_Com</th>\n",
       "    </tr>\n",
       "  </thead>\n",
       "  <tbody>\n",
       "    <tr>\n",
       "      <td>0</td>\n",
       "      <td>8.127273</td>\n",
       "      <td>15.709677</td>\n",
       "    </tr>\n",
       "    <tr>\n",
       "      <td>1</td>\n",
       "      <td>11.383333</td>\n",
       "      <td>8.785714</td>\n",
       "    </tr>\n",
       "    <tr>\n",
       "      <td>2</td>\n",
       "      <td>23.810345</td>\n",
       "      <td>4.233333</td>\n",
       "    </tr>\n",
       "    <tr>\n",
       "      <td>3</td>\n",
       "      <td>7.796296</td>\n",
       "      <td>10.629630</td>\n",
       "    </tr>\n",
       "    <tr>\n",
       "      <td>4</td>\n",
       "      <td>7.170213</td>\n",
       "      <td>9.500000</td>\n",
       "    </tr>\n",
       "  </tbody>\n",
       "</table>\n",
       "</div>"
      ],
      "text/plain": [
       "   Avg_Post_Com  Avg_Show_Com\n",
       "0      8.127273     15.709677\n",
       "1     11.383333      8.785714\n",
       "2     23.810345      4.233333\n",
       "3      7.796296     10.629630\n",
       "4      7.170213      9.500000"
      ]
     },
     "execution_count": 95,
     "metadata": {},
     "output_type": "execute_result"
    }
   ],
   "source": [
    "Hourly_avg_com.head()"
   ]
  },
  {
   "cell_type": "code",
   "execution_count": 119,
   "metadata": {},
   "outputs": [
    {
     "data": {
      "image/png": "[encoded data removed]",
      "text/plain": [
       "<Figure size 1296x576 with 1 Axes>"
      ]
     },
     "metadata": {
      "needs_background": "light"
     },
     "output_type": "display_data"
    }
   ],
   "source": [
    "ax = Hourly_avg_com.plot.bar(figsize = (18,8), rot = 0, color = [\"#A99F0D\", \"#970D1A\"] )\n",
    "ax.set_facecolor(color = \"#F2F1F0\")\n",
    "ax.set_title(\"Comparison of Average Posts and Comments on Hourly basis\", fontsize = 20)\n",
    "ax.set_xlabel(\"Hours\", fontsize = 15)\n",
    "ax.set_ylabel(\"Avg_Comments\", fontsize = 15)\n",
    "ax.tick_params(bottom = False, left = False)\n",
    "ax.legend(frameon = False, fontsize = 12, loc = 'upper left')\n",
    "for value in ax.spines.values():\n",
    "    value.set_visible(False)\n",
    "\n",
    "plt.show()"
   ]
  },
  {
   "cell_type": "markdown",
   "metadata": {},
   "source": [
    "From above graph we conclude that, the best time to recevie more comments on **Ask_HN posts** is **15:00 PM** and the best time to recevie more comments on **Show_HN** is **18:00 PM**. So, if you really wanna recevie more comments on Ask_HN and Show_HN posts on hacker news, than you should posts on those time period."
   ]
  }
 ],
 "metadata": {
  "kernelspec": {
   "display_name": "Python 3",
   "language": "python",
   "name": "python3"
  },
  "language_info": {
   "codemirror_mode": {
    "name": "ipython",
    "version": 3
   },
   "file_extension": ".py",
   "mimetype": "text/x-python",
   "name": "python",
   "nbconvert_exporter": "python",
   "pygments_lexer": "ipython3",
   "version": "3.7.4"
  }
 },
 "nbformat": 4,
 "nbformat_minor": 2
}
