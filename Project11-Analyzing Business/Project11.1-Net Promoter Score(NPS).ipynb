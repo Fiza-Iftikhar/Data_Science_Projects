{
 "cells": [
  {
   "cell_type": "markdown",
   "metadata": {},
   "source": [
    "- **Net Promoter Score (NPS)** is an indicator to measure the customer's loyalty. **NPS** is a metric that assesses the willingness of the customers to recommend a company's products or services to other people. **NPS** metric used by many companies to track cuutomer's satisfaction. The main aim is to identify customers who are less satisfied with the customer experience or product and transform them into the company's promoters. The higher the **NPS**, the greater the customer has loyalty towards a company, brand or service etc. \n",
    "\n",
    "### How to calculate Net Promoter Score?\n",
    "   - **NPS** calculation is based on a customer survey. In the survey one question is mostly framed as \"On a scale of 0 to 10, how likely would you recommend our product/service to other people?\"\n",
    "   - Based on their responses, all respondents are broken down in three categories:\n",
    "       - **Detractors:** Customers who rate your product in the range **(0-6)**, Are those customers who are unhappy and spread negative reviews about your product/service. \n",
    "       - **Passive:** who give response **(7-8)**. Satisfied but unenthusiastic customers who can be taken by competitors.\n",
    "       - **Promoters:** who give response **(9-10)**. Loyal customers who can spread positive reviews of a company.\n",
    "    \n",
    "   - The range of Detractor, Passive and Promoter are generally defined by the company. Companies set their range according to the business need.     \n",
    "   - **Net Promoter Score = Promoter(%) - Detractors(%)** \n",
    "   - The higher the **NPS** is associated with healthier and more successful busniesses.\n",
    "   \n",
    "### From this dataset, we calculate the Net Promoter Score(NPS) on monthly basis."
   ]
  },
  {
   "cell_type": "code",
   "execution_count": 1,
   "metadata": {},
   "outputs": [],
   "source": [
    "import numpy as np\n",
    "import pandas as pd\n",
    "import matplotlib.pyplot as plt\n",
    "import seaborn as sns"
   ]
  },
  {
   "cell_type": "code",
   "execution_count": 2,
   "metadata": {},
   "outputs": [],
   "source": [
    "nps = pd.read_csv(\"nps.csv\")"
   ]
  },
  {
   "cell_type": "code",
   "execution_count": 3,
   "metadata": {},
   "outputs": [
    {
     "data": {
      "text/html": [
       "<div>\n",
       "<style scoped>\n",
       "    .dataframe tbody tr th:only-of-type {\n",
       "        vertical-align: middle;\n",
       "    }\n",
       "\n",
       "    .dataframe tbody tr th {\n",
       "        vertical-align: top;\n",
       "    }\n",
       "\n",
       "    .dataframe thead th {\n",
       "        text-align: right;\n",
       "    }\n",
       "</style>\n",
       "<table border=\"1\" class=\"dataframe\">\n",
       "  <thead>\n",
       "    <tr style=\"text-align: right;\">\n",
       "      <th></th>\n",
       "      <th>event_date</th>\n",
       "      <th>user_id</th>\n",
       "      <th>score</th>\n",
       "    </tr>\n",
       "  </thead>\n",
       "  <tbody>\n",
       "    <tr>\n",
       "      <td>0</td>\n",
       "      <td>2020-01-01 19:00:51</td>\n",
       "      <td>290067447</td>\n",
       "      <td>8</td>\n",
       "    </tr>\n",
       "    <tr>\n",
       "      <td>1</td>\n",
       "      <td>2020-01-02 17:34:43</td>\n",
       "      <td>223014806</td>\n",
       "      <td>10</td>\n",
       "    </tr>\n",
       "    <tr>\n",
       "      <td>2</td>\n",
       "      <td>2020-01-02 19:11:55</td>\n",
       "      <td>187864388</td>\n",
       "      <td>10</td>\n",
       "    </tr>\n",
       "    <tr>\n",
       "      <td>3</td>\n",
       "      <td>2020-01-02 19:27:00</td>\n",
       "      <td>318758952</td>\n",
       "      <td>8</td>\n",
       "    </tr>\n",
       "    <tr>\n",
       "      <td>4</td>\n",
       "      <td>2020-01-02 21:42:19</td>\n",
       "      <td>189933311</td>\n",
       "      <td>0</td>\n",
       "    </tr>\n",
       "  </tbody>\n",
       "</table>\n",
       "</div>"
      ],
      "text/plain": [
       "            event_date    user_id  score\n",
       "0  2020-01-01 19:00:51  290067447      8\n",
       "1  2020-01-02 17:34:43  223014806     10\n",
       "2  2020-01-02 19:11:55  187864388     10\n",
       "3  2020-01-02 19:27:00  318758952      8\n",
       "4  2020-01-02 21:42:19  189933311      0"
      ]
     },
     "execution_count": 3,
     "metadata": {},
     "output_type": "execute_result"
    }
   ],
   "source": [
    "nps.head()"
   ]
  },
  {
   "cell_type": "code",
   "execution_count": 4,
   "metadata": {},
   "outputs": [
    {
     "name": "stdout",
     "output_type": "stream",
     "text": [
      "<class 'pandas.core.frame.DataFrame'>\n",
      "RangeIndex: 3326 entries, 0 to 3325\n",
      "Data columns (total 3 columns):\n",
      "event_date    3326 non-null object\n",
      "user_id       3326 non-null int64\n",
      "score         3326 non-null int64\n",
      "dtypes: int64(2), object(1)\n",
      "memory usage: 78.1+ KB\n"
     ]
    }
   ],
   "source": [
    "nps.info()"
   ]
  },
  {
   "cell_type": "markdown",
   "metadata": {},
   "source": [
    "- To work with the event_date column firstly we convert its datatype into datetime. "
   ]
  },
  {
   "cell_type": "code",
   "execution_count": 5,
   "metadata": {},
   "outputs": [],
   "source": [
    "nps = pd.read_csv(\"nps.csv\", parse_dates = [\"event_date\"])"
   ]
  },
  {
   "cell_type": "code",
   "execution_count": 6,
   "metadata": {},
   "outputs": [
    {
     "name": "stdout",
     "output_type": "stream",
     "text": [
      "<class 'pandas.core.frame.DataFrame'>\n",
      "RangeIndex: 3326 entries, 0 to 3325\n",
      "Data columns (total 3 columns):\n",
      "event_date    3326 non-null datetime64[ns]\n",
      "user_id       3326 non-null int64\n",
      "score         3326 non-null int64\n",
      "dtypes: datetime64[ns](1), int64(2)\n",
      "memory usage: 78.1 KB\n"
     ]
    }
   ],
   "source": [
    "nps.info()"
   ]
  },
  {
   "cell_type": "markdown",
   "metadata": {},
   "source": [
    "- We decided to calculate the **NPS** on monthly basis. So, from the event_date column, we extract the year and month data and make a separate column **YearMonth**."
   ]
  },
  {
   "cell_type": "code",
   "execution_count": 7,
   "metadata": {},
   "outputs": [],
   "source": [
    "Year = nps[\"event_date\"].dt.year\n",
    "Month = nps[\"event_date\"].dt.month"
   ]
  },
  {
   "cell_type": "code",
   "execution_count": 10,
   "metadata": {},
   "outputs": [],
   "source": [
    "nps[\"YearMonth\"] = Year*100 + Month"
   ]
  },
  {
   "cell_type": "code",
   "execution_count": 11,
   "metadata": {},
   "outputs": [
    {
     "data": {
      "text/html": [
       "<div>\n",
       "<style scoped>\n",
       "    .dataframe tbody tr th:only-of-type {\n",
       "        vertical-align: middle;\n",
       "    }\n",
       "\n",
       "    .dataframe tbody tr th {\n",
       "        vertical-align: top;\n",
       "    }\n",
       "\n",
       "    .dataframe thead th {\n",
       "        text-align: right;\n",
       "    }\n",
       "</style>\n",
       "<table border=\"1\" class=\"dataframe\">\n",
       "  <thead>\n",
       "    <tr style=\"text-align: right;\">\n",
       "      <th></th>\n",
       "      <th>event_date</th>\n",
       "      <th>user_id</th>\n",
       "      <th>score</th>\n",
       "      <th>YearMonth</th>\n",
       "    </tr>\n",
       "  </thead>\n",
       "  <tbody>\n",
       "    <tr>\n",
       "      <td>0</td>\n",
       "      <td>2020-01-01 19:00:51</td>\n",
       "      <td>290067447</td>\n",
       "      <td>8</td>\n",
       "      <td>202001</td>\n",
       "    </tr>\n",
       "    <tr>\n",
       "      <td>1</td>\n",
       "      <td>2020-01-02 17:34:43</td>\n",
       "      <td>223014806</td>\n",
       "      <td>10</td>\n",
       "      <td>202001</td>\n",
       "    </tr>\n",
       "    <tr>\n",
       "      <td>2</td>\n",
       "      <td>2020-01-02 19:11:55</td>\n",
       "      <td>187864388</td>\n",
       "      <td>10</td>\n",
       "      <td>202001</td>\n",
       "    </tr>\n",
       "    <tr>\n",
       "      <td>3</td>\n",
       "      <td>2020-01-02 19:27:00</td>\n",
       "      <td>318758952</td>\n",
       "      <td>8</td>\n",
       "      <td>202001</td>\n",
       "    </tr>\n",
       "    <tr>\n",
       "      <td>4</td>\n",
       "      <td>2020-01-02 21:42:19</td>\n",
       "      <td>189933311</td>\n",
       "      <td>0</td>\n",
       "      <td>202001</td>\n",
       "    </tr>\n",
       "  </tbody>\n",
       "</table>\n",
       "</div>"
      ],
      "text/plain": [
       "           event_date    user_id  score  YearMonth\n",
       "0 2020-01-01 19:00:51  290067447      8     202001\n",
       "1 2020-01-02 17:34:43  223014806     10     202001\n",
       "2 2020-01-02 19:11:55  187864388     10     202001\n",
       "3 2020-01-02 19:27:00  318758952      8     202001\n",
       "4 2020-01-02 21:42:19  189933311      0     202001"
      ]
     },
     "execution_count": 11,
     "metadata": {},
     "output_type": "execute_result"
    }
   ],
   "source": [
    "nps.head()"
   ]
  },
  {
   "cell_type": "code",
   "execution_count": 13,
   "metadata": {},
   "outputs": [
    {
     "data": {
      "text/plain": [
       "array([ 8, 10,  0,  6,  7,  9,  5,  2,  4,  3,  1], dtype=int64)"
      ]
     },
     "execution_count": 13,
     "metadata": {},
     "output_type": "execute_result"
    }
   ],
   "source": [
    "nps[\"score\"].unique()"
   ]
  },
  {
   "cell_type": "markdown",
   "metadata": {},
   "source": [
    "- We make a function where we define the Detractor, Passive and Promoter"
   ]
  },
  {
   "cell_type": "code",
   "execution_count": 14,
   "metadata": {},
   "outputs": [],
   "source": [
    "def category(score):\n",
    "    if score in range(0,7):\n",
    "        return \"Detractor\"\n",
    "    elif score in [7,8]:\n",
    "        return \"Passive\"\n",
    "    else:\n",
    "        return \"Promoter\""
   ]
  },
  {
   "cell_type": "code",
   "execution_count": 16,
   "metadata": {},
   "outputs": [],
   "source": [
    "nps[\"Category\"] = nps[\"score\"].apply(category)"
   ]
  },
  {
   "cell_type": "code",
   "execution_count": 17,
   "metadata": {},
   "outputs": [
    {
     "data": {
      "text/html": [
       "<div>\n",
       "<style scoped>\n",
       "    .dataframe tbody tr th:only-of-type {\n",
       "        vertical-align: middle;\n",
       "    }\n",
       "\n",
       "    .dataframe tbody tr th {\n",
       "        vertical-align: top;\n",
       "    }\n",
       "\n",
       "    .dataframe thead th {\n",
       "        text-align: right;\n",
       "    }\n",
       "</style>\n",
       "<table border=\"1\" class=\"dataframe\">\n",
       "  <thead>\n",
       "    <tr style=\"text-align: right;\">\n",
       "      <th></th>\n",
       "      <th>event_date</th>\n",
       "      <th>user_id</th>\n",
       "      <th>score</th>\n",
       "      <th>YearMonth</th>\n",
       "      <th>Category</th>\n",
       "    </tr>\n",
       "  </thead>\n",
       "  <tbody>\n",
       "    <tr>\n",
       "      <td>0</td>\n",
       "      <td>2020-01-01 19:00:51</td>\n",
       "      <td>290067447</td>\n",
       "      <td>8</td>\n",
       "      <td>202001</td>\n",
       "      <td>Passive</td>\n",
       "    </tr>\n",
       "    <tr>\n",
       "      <td>1</td>\n",
       "      <td>2020-01-02 17:34:43</td>\n",
       "      <td>223014806</td>\n",
       "      <td>10</td>\n",
       "      <td>202001</td>\n",
       "      <td>Promoter</td>\n",
       "    </tr>\n",
       "    <tr>\n",
       "      <td>2</td>\n",
       "      <td>2020-01-02 19:11:55</td>\n",
       "      <td>187864388</td>\n",
       "      <td>10</td>\n",
       "      <td>202001</td>\n",
       "      <td>Promoter</td>\n",
       "    </tr>\n",
       "    <tr>\n",
       "      <td>3</td>\n",
       "      <td>2020-01-02 19:27:00</td>\n",
       "      <td>318758952</td>\n",
       "      <td>8</td>\n",
       "      <td>202001</td>\n",
       "      <td>Passive</td>\n",
       "    </tr>\n",
       "    <tr>\n",
       "      <td>4</td>\n",
       "      <td>2020-01-02 21:42:19</td>\n",
       "      <td>189933311</td>\n",
       "      <td>0</td>\n",
       "      <td>202001</td>\n",
       "      <td>Detractor</td>\n",
       "    </tr>\n",
       "  </tbody>\n",
       "</table>\n",
       "</div>"
      ],
      "text/plain": [
       "           event_date    user_id  score  YearMonth   Category\n",
       "0 2020-01-01 19:00:51  290067447      8     202001    Passive\n",
       "1 2020-01-02 17:34:43  223014806     10     202001   Promoter\n",
       "2 2020-01-02 19:11:55  187864388     10     202001   Promoter\n",
       "3 2020-01-02 19:27:00  318758952      8     202001    Passive\n",
       "4 2020-01-02 21:42:19  189933311      0     202001  Detractor"
      ]
     },
     "execution_count": 17,
     "metadata": {},
     "output_type": "execute_result"
    }
   ],
   "source": [
    "nps.head()"
   ]
  },
  {
   "cell_type": "code",
   "execution_count": 22,
   "metadata": {},
   "outputs": [
    {
     "data": {
      "text/plain": [
       "YearMonth  Category \n",
       "202001     Detractor     31\n",
       "           Passive       82\n",
       "           Promoter     215\n",
       "202002     Detractor     22\n",
       "           Passive       90\n",
       "           Promoter     161\n",
       "202003     Detractor     33\n",
       "           Passive       72\n",
       "           Promoter     125\n",
       "202004     Detractor     36\n",
       "           Passive       87\n",
       "           Promoter     178\n",
       "202005     Detractor     33\n",
       "           Passive       83\n",
       "           Promoter     191\n",
       "202006     Detractor     32\n",
       "           Passive       80\n",
       "           Promoter     215\n",
       "202007     Detractor     48\n",
       "           Passive       95\n",
       "           Promoter     258\n",
       "202008     Detractor     40\n",
       "           Passive      103\n",
       "           Promoter     256\n",
       "202009     Detractor     18\n",
       "           Passive       68\n",
       "           Promoter     135\n",
       "202010     Detractor     36\n",
       "           Passive       83\n",
       "           Promoter     177\n",
       "202011     Detractor     18\n",
       "           Passive       27\n",
       "           Promoter      72\n",
       "202012     Detractor     22\n",
       "           Passive       42\n",
       "           Promoter      62\n",
       "dtype: int64"
      ]
     },
     "execution_count": 22,
     "metadata": {},
     "output_type": "execute_result"
    }
   ],
   "source": [
    "nps.groupby([\"YearMonth\",\"Category\"]).size()"
   ]
  },
  {
   "cell_type": "code",
   "execution_count": 28,
   "metadata": {},
   "outputs": [],
   "source": [
    "nps_df = nps.pivot_table(index = \"YearMonth\", columns = \"Category\", aggfunc = \"size\")"
   ]
  },
  {
   "cell_type": "code",
   "execution_count": 29,
   "metadata": {},
   "outputs": [
    {
     "data": {
      "text/html": [
       "<div>\n",
       "<style scoped>\n",
       "    .dataframe tbody tr th:only-of-type {\n",
       "        vertical-align: middle;\n",
       "    }\n",
       "\n",
       "    .dataframe tbody tr th {\n",
       "        vertical-align: top;\n",
       "    }\n",
       "\n",
       "    .dataframe thead th {\n",
       "        text-align: right;\n",
       "    }\n",
       "</style>\n",
       "<table border=\"1\" class=\"dataframe\">\n",
       "  <thead>\n",
       "    <tr style=\"text-align: right;\">\n",
       "      <th>Category</th>\n",
       "      <th>Detractor</th>\n",
       "      <th>Passive</th>\n",
       "      <th>Promoter</th>\n",
       "    </tr>\n",
       "    <tr>\n",
       "      <th>YearMonth</th>\n",
       "      <th></th>\n",
       "      <th></th>\n",
       "      <th></th>\n",
       "    </tr>\n",
       "  </thead>\n",
       "  <tbody>\n",
       "    <tr>\n",
       "      <td>202001</td>\n",
       "      <td>31</td>\n",
       "      <td>82</td>\n",
       "      <td>215</td>\n",
       "    </tr>\n",
       "    <tr>\n",
       "      <td>202002</td>\n",
       "      <td>22</td>\n",
       "      <td>90</td>\n",
       "      <td>161</td>\n",
       "    </tr>\n",
       "    <tr>\n",
       "      <td>202003</td>\n",
       "      <td>33</td>\n",
       "      <td>72</td>\n",
       "      <td>125</td>\n",
       "    </tr>\n",
       "    <tr>\n",
       "      <td>202004</td>\n",
       "      <td>36</td>\n",
       "      <td>87</td>\n",
       "      <td>178</td>\n",
       "    </tr>\n",
       "    <tr>\n",
       "      <td>202005</td>\n",
       "      <td>33</td>\n",
       "      <td>83</td>\n",
       "      <td>191</td>\n",
       "    </tr>\n",
       "    <tr>\n",
       "      <td>202006</td>\n",
       "      <td>32</td>\n",
       "      <td>80</td>\n",
       "      <td>215</td>\n",
       "    </tr>\n",
       "    <tr>\n",
       "      <td>202007</td>\n",
       "      <td>48</td>\n",
       "      <td>95</td>\n",
       "      <td>258</td>\n",
       "    </tr>\n",
       "    <tr>\n",
       "      <td>202008</td>\n",
       "      <td>40</td>\n",
       "      <td>103</td>\n",
       "      <td>256</td>\n",
       "    </tr>\n",
       "    <tr>\n",
       "      <td>202009</td>\n",
       "      <td>18</td>\n",
       "      <td>68</td>\n",
       "      <td>135</td>\n",
       "    </tr>\n",
       "    <tr>\n",
       "      <td>202010</td>\n",
       "      <td>36</td>\n",
       "      <td>83</td>\n",
       "      <td>177</td>\n",
       "    </tr>\n",
       "    <tr>\n",
       "      <td>202011</td>\n",
       "      <td>18</td>\n",
       "      <td>27</td>\n",
       "      <td>72</td>\n",
       "    </tr>\n",
       "    <tr>\n",
       "      <td>202012</td>\n",
       "      <td>22</td>\n",
       "      <td>42</td>\n",
       "      <td>62</td>\n",
       "    </tr>\n",
       "  </tbody>\n",
       "</table>\n",
       "</div>"
      ],
      "text/plain": [
       "Category   Detractor  Passive  Promoter\n",
       "YearMonth                              \n",
       "202001            31       82       215\n",
       "202002            22       90       161\n",
       "202003            33       72       125\n",
       "202004            36       87       178\n",
       "202005            33       83       191\n",
       "202006            32       80       215\n",
       "202007            48       95       258\n",
       "202008            40      103       256\n",
       "202009            18       68       135\n",
       "202010            36       83       177\n",
       "202011            18       27        72\n",
       "202012            22       42        62"
      ]
     },
     "execution_count": 29,
     "metadata": {},
     "output_type": "execute_result"
    }
   ],
   "source": [
    "nps_df"
   ]
  },
  {
   "cell_type": "code",
   "execution_count": 31,
   "metadata": {},
   "outputs": [],
   "source": [
    "nps_df[\"Total\"] = nps_df.sum(axis = 1)"
   ]
  },
  {
   "cell_type": "code",
   "execution_count": 32,
   "metadata": {},
   "outputs": [
    {
     "data": {
      "text/html": [
       "<div>\n",
       "<style scoped>\n",
       "    .dataframe tbody tr th:only-of-type {\n",
       "        vertical-align: middle;\n",
       "    }\n",
       "\n",
       "    .dataframe tbody tr th {\n",
       "        vertical-align: top;\n",
       "    }\n",
       "\n",
       "    .dataframe thead th {\n",
       "        text-align: right;\n",
       "    }\n",
       "</style>\n",
       "<table border=\"1\" class=\"dataframe\">\n",
       "  <thead>\n",
       "    <tr style=\"text-align: right;\">\n",
       "      <th>Category</th>\n",
       "      <th>Detractor</th>\n",
       "      <th>Passive</th>\n",
       "      <th>Promoter</th>\n",
       "      <th>Total</th>\n",
       "    </tr>\n",
       "    <tr>\n",
       "      <th>YearMonth</th>\n",
       "      <th></th>\n",
       "      <th></th>\n",
       "      <th></th>\n",
       "      <th></th>\n",
       "    </tr>\n",
       "  </thead>\n",
       "  <tbody>\n",
       "    <tr>\n",
       "      <td>202001</td>\n",
       "      <td>31</td>\n",
       "      <td>82</td>\n",
       "      <td>215</td>\n",
       "      <td>328</td>\n",
       "    </tr>\n",
       "    <tr>\n",
       "      <td>202002</td>\n",
       "      <td>22</td>\n",
       "      <td>90</td>\n",
       "      <td>161</td>\n",
       "      <td>273</td>\n",
       "    </tr>\n",
       "    <tr>\n",
       "      <td>202003</td>\n",
       "      <td>33</td>\n",
       "      <td>72</td>\n",
       "      <td>125</td>\n",
       "      <td>230</td>\n",
       "    </tr>\n",
       "    <tr>\n",
       "      <td>202004</td>\n",
       "      <td>36</td>\n",
       "      <td>87</td>\n",
       "      <td>178</td>\n",
       "      <td>301</td>\n",
       "    </tr>\n",
       "    <tr>\n",
       "      <td>202005</td>\n",
       "      <td>33</td>\n",
       "      <td>83</td>\n",
       "      <td>191</td>\n",
       "      <td>307</td>\n",
       "    </tr>\n",
       "    <tr>\n",
       "      <td>202006</td>\n",
       "      <td>32</td>\n",
       "      <td>80</td>\n",
       "      <td>215</td>\n",
       "      <td>327</td>\n",
       "    </tr>\n",
       "    <tr>\n",
       "      <td>202007</td>\n",
       "      <td>48</td>\n",
       "      <td>95</td>\n",
       "      <td>258</td>\n",
       "      <td>401</td>\n",
       "    </tr>\n",
       "    <tr>\n",
       "      <td>202008</td>\n",
       "      <td>40</td>\n",
       "      <td>103</td>\n",
       "      <td>256</td>\n",
       "      <td>399</td>\n",
       "    </tr>\n",
       "    <tr>\n",
       "      <td>202009</td>\n",
       "      <td>18</td>\n",
       "      <td>68</td>\n",
       "      <td>135</td>\n",
       "      <td>221</td>\n",
       "    </tr>\n",
       "    <tr>\n",
       "      <td>202010</td>\n",
       "      <td>36</td>\n",
       "      <td>83</td>\n",
       "      <td>177</td>\n",
       "      <td>296</td>\n",
       "    </tr>\n",
       "    <tr>\n",
       "      <td>202011</td>\n",
       "      <td>18</td>\n",
       "      <td>27</td>\n",
       "      <td>72</td>\n",
       "      <td>117</td>\n",
       "    </tr>\n",
       "    <tr>\n",
       "      <td>202012</td>\n",
       "      <td>22</td>\n",
       "      <td>42</td>\n",
       "      <td>62</td>\n",
       "      <td>126</td>\n",
       "    </tr>\n",
       "  </tbody>\n",
       "</table>\n",
       "</div>"
      ],
      "text/plain": [
       "Category   Detractor  Passive  Promoter  Total\n",
       "YearMonth                                     \n",
       "202001            31       82       215    328\n",
       "202002            22       90       161    273\n",
       "202003            33       72       125    230\n",
       "202004            36       87       178    301\n",
       "202005            33       83       191    307\n",
       "202006            32       80       215    327\n",
       "202007            48       95       258    401\n",
       "202008            40      103       256    399\n",
       "202009            18       68       135    221\n",
       "202010            36       83       177    296\n",
       "202011            18       27        72    117\n",
       "202012            22       42        62    126"
      ]
     },
     "execution_count": 32,
     "metadata": {},
     "output_type": "execute_result"
    }
   ],
   "source": [
    "nps_df"
   ]
  },
  {
   "cell_type": "code",
   "execution_count": 35,
   "metadata": {},
   "outputs": [],
   "source": [
    "nps_df[\"NPS\"] = (nps_df[\"Promoter\"]*100/nps_df[\"Total\"]) - (nps_df[\"Detractor\"]*100/nps_df[\"Total\"])"
   ]
  },
  {
   "cell_type": "code",
   "execution_count": 36,
   "metadata": {},
   "outputs": [
    {
     "data": {
      "text/html": [
       "<div>\n",
       "<style scoped>\n",
       "    .dataframe tbody tr th:only-of-type {\n",
       "        vertical-align: middle;\n",
       "    }\n",
       "\n",
       "    .dataframe tbody tr th {\n",
       "        vertical-align: top;\n",
       "    }\n",
       "\n",
       "    .dataframe thead th {\n",
       "        text-align: right;\n",
       "    }\n",
       "</style>\n",
       "<table border=\"1\" class=\"dataframe\">\n",
       "  <thead>\n",
       "    <tr style=\"text-align: right;\">\n",
       "      <th>Category</th>\n",
       "      <th>Detractor</th>\n",
       "      <th>Passive</th>\n",
       "      <th>Promoter</th>\n",
       "      <th>Total</th>\n",
       "      <th>NPS</th>\n",
       "    </tr>\n",
       "    <tr>\n",
       "      <th>YearMonth</th>\n",
       "      <th></th>\n",
       "      <th></th>\n",
       "      <th></th>\n",
       "      <th></th>\n",
       "      <th></th>\n",
       "    </tr>\n",
       "  </thead>\n",
       "  <tbody>\n",
       "    <tr>\n",
       "      <td>202001</td>\n",
       "      <td>31</td>\n",
       "      <td>82</td>\n",
       "      <td>215</td>\n",
       "      <td>328</td>\n",
       "      <td>56.097561</td>\n",
       "    </tr>\n",
       "    <tr>\n",
       "      <td>202002</td>\n",
       "      <td>22</td>\n",
       "      <td>90</td>\n",
       "      <td>161</td>\n",
       "      <td>273</td>\n",
       "      <td>50.915751</td>\n",
       "    </tr>\n",
       "    <tr>\n",
       "      <td>202003</td>\n",
       "      <td>33</td>\n",
       "      <td>72</td>\n",
       "      <td>125</td>\n",
       "      <td>230</td>\n",
       "      <td>40.000000</td>\n",
       "    </tr>\n",
       "    <tr>\n",
       "      <td>202004</td>\n",
       "      <td>36</td>\n",
       "      <td>87</td>\n",
       "      <td>178</td>\n",
       "      <td>301</td>\n",
       "      <td>47.176080</td>\n",
       "    </tr>\n",
       "    <tr>\n",
       "      <td>202005</td>\n",
       "      <td>33</td>\n",
       "      <td>83</td>\n",
       "      <td>191</td>\n",
       "      <td>307</td>\n",
       "      <td>51.465798</td>\n",
       "    </tr>\n",
       "    <tr>\n",
       "      <td>202006</td>\n",
       "      <td>32</td>\n",
       "      <td>80</td>\n",
       "      <td>215</td>\n",
       "      <td>327</td>\n",
       "      <td>55.963303</td>\n",
       "    </tr>\n",
       "    <tr>\n",
       "      <td>202007</td>\n",
       "      <td>48</td>\n",
       "      <td>95</td>\n",
       "      <td>258</td>\n",
       "      <td>401</td>\n",
       "      <td>52.369077</td>\n",
       "    </tr>\n",
       "    <tr>\n",
       "      <td>202008</td>\n",
       "      <td>40</td>\n",
       "      <td>103</td>\n",
       "      <td>256</td>\n",
       "      <td>399</td>\n",
       "      <td>54.135338</td>\n",
       "    </tr>\n",
       "    <tr>\n",
       "      <td>202009</td>\n",
       "      <td>18</td>\n",
       "      <td>68</td>\n",
       "      <td>135</td>\n",
       "      <td>221</td>\n",
       "      <td>52.941176</td>\n",
       "    </tr>\n",
       "    <tr>\n",
       "      <td>202010</td>\n",
       "      <td>36</td>\n",
       "      <td>83</td>\n",
       "      <td>177</td>\n",
       "      <td>296</td>\n",
       "      <td>47.635135</td>\n",
       "    </tr>\n",
       "    <tr>\n",
       "      <td>202011</td>\n",
       "      <td>18</td>\n",
       "      <td>27</td>\n",
       "      <td>72</td>\n",
       "      <td>117</td>\n",
       "      <td>46.153846</td>\n",
       "    </tr>\n",
       "    <tr>\n",
       "      <td>202012</td>\n",
       "      <td>22</td>\n",
       "      <td>42</td>\n",
       "      <td>62</td>\n",
       "      <td>126</td>\n",
       "      <td>31.746032</td>\n",
       "    </tr>\n",
       "  </tbody>\n",
       "</table>\n",
       "</div>"
      ],
      "text/plain": [
       "Category   Detractor  Passive  Promoter  Total        NPS\n",
       "YearMonth                                                \n",
       "202001            31       82       215    328  56.097561\n",
       "202002            22       90       161    273  50.915751\n",
       "202003            33       72       125    230  40.000000\n",
       "202004            36       87       178    301  47.176080\n",
       "202005            33       83       191    307  51.465798\n",
       "202006            32       80       215    327  55.963303\n",
       "202007            48       95       258    401  52.369077\n",
       "202008            40      103       256    399  54.135338\n",
       "202009            18       68       135    221  52.941176\n",
       "202010            36       83       177    296  47.635135\n",
       "202011            18       27        72    117  46.153846\n",
       "202012            22       42        62    126  31.746032"
      ]
     },
     "execution_count": 36,
     "metadata": {},
     "output_type": "execute_result"
    }
   ],
   "source": [
    "nps_df"
   ]
  },
  {
   "cell_type": "markdown",
   "metadata": {},
   "source": [
    "### Graphical representation of NPS"
   ]
  },
  {
   "cell_type": "code",
   "execution_count": 98,
   "metadata": {},
   "outputs": [
    {
     "data": {
      "image/png": "[encoded data removed]",
      "text/plain": [
       "<Figure size 864x432 with 1 Axes>"
      ]
     },
     "metadata": {
      "needs_background": "light"
     },
     "output_type": "display_data"
    }
   ],
   "source": [
    "ax = nps_df.reset_index().plot(x = \"YearMonth\", y = \"NPS\", kind = \"line\", figsize = (12,6), marker = \".\",\n",
    "                               color = \"#ff531a\")\n",
    "plt.title(\"Monthly NPS Comparison\", fontsize = 15, y = 1.02)\n",
    "ax.set_xticks(nps_df.index)\n",
    "ax.set_xticklabels(nps_df.index)\n",
    "ax.set_xlabel(\"\")\n",
    "ax.set_xlim(202000,202013)\n",
    "ax.legend(\"\")\n",
    "ax.set_facecolor(color = \"#f2f2f2\")\n",
    "ax.grid(linestyle = \"-\", linewidth = 2 , color = \"white\", axis = \"y\",)\n",
    "for value in ax.spines.values():\n",
    "    value.set_visible(False)\n",
    "\n",
    "\n",
    "\n",
    "plt.savefig(\"Monthly NPS Comparison.png\")\n",
    "plt.show()"
   ]
  },
  {
   "cell_type": "markdown",
   "metadata": {},
   "source": [
    "### CONCLUSION:\n",
    " - We can see that the NPS varies every month, from high to low. From the starting year, NPS is higher but we can see that at the end of the year NPS is at its lowest point. From that, we can say that customers are not satisfied with the business products or services. Or maybe the company was changed their policy, product/service rates or make new strategies that didn't work for them. The company should keenly observe the impact on the business due to the changes they made.  \n",
    " - It is not necessary that if NPS is low then it means your customer is not satisfied or your business is not working good. A company should compare their NPS with their industry. There is a possibility that the pandemic and the subsequent limitations have hit hard to the market but your business NPS is good as compared to other industries.\n",
    " - To understand your Net Promoter Score better, start by comparing it with the average scores within your industry, and against competitors. This is also referred to as the relative method, as opposed to the absolute method, which involves benchmarking your number to an agreed standard across industries for what a good NPS is. When comparing NPS scores, it’s important to understand what market you’re operating in. Some businesses have a more positive image than others."
   ]
  }
 ],
 "metadata": {
  "kernelspec": {
   "display_name": "Python 3",
   "language": "python",
   "name": "python3"
  },
  "language_info": {
   "codemirror_mode": {
    "name": "ipython",
    "version": 3
   },
   "file_extension": ".py",
   "mimetype": "text/x-python",
   "name": "python",
   "nbconvert_exporter": "python",
   "pygments_lexer": "ipython3",
   "version": "3.7.4"
  }
 },
 "nbformat": 4,
 "nbformat_minor": 2
}
